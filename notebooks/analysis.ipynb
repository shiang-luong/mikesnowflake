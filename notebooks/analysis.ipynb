{
 "cells": [
  {
   "cell_type": "code",
   "execution_count": null,
   "metadata": {},
   "outputs": [],
   "source": [
    "import os\n",
    "import sys\n",
    "sys.path.append(os.path.join('..', '..'))\n",
    "\n",
    "import logging\n",
    "logging.getLogger().setLevel(logging.INFO)\n",
    "\n",
    "import datetime\n",
    "import pandas as pd\n",
    "import multiprocessing as mp\n",
    "\n",
    "from bokeh.io import show, output_notebook\n",
    "from bokeh.models import Panel, Tabs, Plot, Range1d, MultiLine, Circle, HoverTool, TapTool, BoxSelectTool, ColumnDataSource, LabelSet, PointDrawTool, WheelZoomTool\n",
    "from bokeh.models.graphs import from_networkx, NodesAndLinkedEdges, EdgesAndLinkedNodes\n",
    "from bokeh.models.widgets import Div\n",
    "from bokeh.plotting import figure\n",
    "from bokeh.layouts import layout\n",
    "from bokeh.models.tools import HoverTool\n",
    "import networkx as nx\n",
    "\n",
    "# custom libraries\n",
    "from mikesnowflake.analysis.snowFlakeAnalysis import SnowFlakeAnalysis\n",
    "from mikesnowflake.access.colorAccess import ColorAccess\n",
    "\n",
    "output_notebook(hide_banner=True)"
   ]
  },
  {
   "cell_type": "code",
   "execution_count": null,
   "metadata": {},
   "outputs": [],
   "source": [
    "os.environ['GOOGLE_APPLICATION_CREDENTIALS'] = ''\n",
    "\n",
    "user = ''\n",
    "password = ''"
   ]
  },
  {
   "cell_type": "code",
   "execution_count": null,
   "metadata": {},
   "outputs": [],
   "source": [
    "START_DATE = datetime.datetime(2019, 12, 1)\n",
    "END_DATE = datetime.datetime(2020, 6, 26)\n",
    "SFA = SnowFlakeAnalysis(START_DATE, END_DATE, user, password, excludeEtl=False, verbose=False)\n",
    "ca = ColorAccess()"
   ]
  },
  {
   "cell_type": "code",
   "execution_count": null,
   "metadata": {},
   "outputs": [],
   "source": [
    "def getHistory(tableNames, processes=8, sfa=SFA):\n",
    "    \"\"\"\n",
    "    \"\"\"\n",
    "    startTime = datetime.datetime.today()\n",
    "    if isinstance(tableNames, str):\n",
    "        tableNames = [tableNames]\n",
    "    with mp.Pool(processes) as pool:\n",
    "        out = pool.map(sfa.getQueryTypeHistory, tableNames)\n",
    "    endTime = datetime.datetime.today()\n",
    "    return dict(zip(tableNames, out))"
   ]
  },
  {
   "cell_type": "code",
   "execution_count": null,
   "metadata": {},
   "outputs": [],
   "source": [
    "tableNames = ['SUPPLY_DEMAND_GEO_HOURLY_FACT',\n",
    " 'PLATFORM_DIM',\n",
    " 'SUPPLY_DEMAND_COUNTRY_HOURLY_FACT',\n",
    " 'ADVERTISER_DIM',\n",
    " 'PUBLISHER_DIM',\n",
    " 'TIMEZONE',\n",
    " 'DEMAND_HOURLY_FACT',\n",
    " 'LINE_ITEM_DIM',\n",
    " 'SUPPLY_HOURLY_FACT',\n",
    " 'AD_UNIT_DIM',\n",
    " 'CONTENT_TOPIC_GROUP_DIM',\n",
    " 'SUPPLY_DEMAND_PAIRS_FACT',\n",
    " 'SUPPLY_SIZE_FACT',\n",
    " 'AD_UNIT_DEAL_TYPE_HISTORY_NEW',\n",
    " 'CPD_LINE_ITEM_HISTORY_NEW',\n",
    " 'ROLLUP_STATE',\n",
    " 'DATA_CHANGE']\n",
    "qtHistory = getHistory(SFA.snowFlakeTables, processes=8)"
   ]
  },
  {
   "cell_type": "code",
   "execution_count": null,
   "metadata": {
    "scrolled": false
   },
   "outputs": [],
   "source": [
    "# show overall query type history for tables in question\n",
    "p = {}  # collector of bokeh charts keyed by table name\n",
    "for tableName in tableNames:\n",
    "    tableHistory = qtHistory[tableName].pivot(index='query_date', columns='query_type', values='hits')\n",
    "    tableHistory.columns.name = None\n",
    "    \n",
    "    p[tableName] = figure(width=1900, height=800, x_axis_type='datetime')\n",
    "    for c in tableHistory.columns:\n",
    "        p[tableName].line(tableHistory.index.tolist(), tableHistory[c], line_width=2, name=c, legend_label=c, line_color=SFA.queryTypeColors[c])\n",
    "    p[tableName].title.text = 'Daily SQL Command Count History for %s' % tableName\n",
    "    p[tableName].title.align = 'center'\n",
    "    hover = HoverTool(tooltips=[('Date', '@x{%F}'),\n",
    "                                (\"Query Type\", \"$name\"),\n",
    "                                (\"Hits\", \"@y{0,0}\")],\n",
    "                      formatters={'x': 'datetime'})\n",
    "    p[tableName].add_tools(hover)\n",
    "    p[tableName].legend.click_policy=\"hide\"\n",
    "tabSize = 5\n",
    "subLists = [tableNames[i * tabSize:(i + 1) * tabSize] for i in range((len(tableNames) + tabSize - 1) // tabSize )]\n",
    "tabs = []\n",
    "for subList in subLists:\n",
    "    tabs.append([Tabs(tabs=[Panel(child=p[tableName], title=tableName) for tableName in subList], background='whitesmoke')])\n",
    "show(layout([Div(text=\"Daily SQL Command Count History </b>\", style={'font-size': '150%'}, width=1500, height=25)],\n",
    "            [tabs]))"
   ]
  },
  {
   "cell_type": "code",
   "execution_count": null,
   "metadata": {
    "scrolled": false
   },
   "outputs": [],
   "source": [
    "# show select-type usage\n",
    "for tableName in tableNames:\n",
    "    df = SFA.getUsageHistory(tableName, 'select')\n",
    "    colors = dict(zip(df['user_name'].unique().tolist(), ca.getColors(len(df['user_name'].unique()))))\n",
    "    q = {}  # collector of bokeh charts keyed by table name\n",
    "    for queryCmd, out in df.groupby(['query_type']):\n",
    "        userHistory = out.pivot(index='query_date', columns='user_name', values='hits')\n",
    "        userHistory.columns.name = None\n",
    "        userHistory = userHistory.reindex(pd.date_range(SFA.startDate, SFA.endDate)).fillna(0)\n",
    "\n",
    "        q[queryCmd] = figure(width=1900, height=1000, x_axis_type='datetime')\n",
    "        for user in userHistory.columns:\n",
    "            q[queryCmd].line(userHistory.index.tolist(), userHistory[user], line_width=2, name=user, legend_label=user, line_color=colors[user])\n",
    "        q[queryCmd].title.text = '%s History (%s)' % (tableName, queryCmd)\n",
    "        q[queryCmd].title.align = 'center'\n",
    "        hover = HoverTool(tooltips=[('Date', '@x{%F}'),\n",
    "                                    (\"User\", \"$name\"),\n",
    "                                    (\"Hits\", \"@y{0,0}\")],\n",
    "                          formatters={'x': 'datetime'})\n",
    "        q[queryCmd].add_tools(hover)\n",
    "        q[queryCmd].legend.click_policy=\"hide\"\n",
    "\n",
    "    tabSize = 5\n",
    "    queryTypes = list(q.keys())\n",
    "    subLists = [queryTypes[i * tabSize:(i + 1) * tabSize] for i in range((len(queryTypes) + tabSize - 1) // tabSize )]\n",
    "    tabs = []\n",
    "    for subList in subLists:\n",
    "        tabs.append([Tabs(tabs=[Panel(child=q[queryType], title=queryType) for queryType in subList], background='whitesmoke')])\n",
    "\n",
    "    for tab in tabs:\n",
    "        show(layout([Div(text=\"Select-like Command User History for %s</b>\" % tableName, style={'font-size': '150%'}, width=1500, height=25)],\n",
    "                    [tab]))"
   ]
  },
  {
   "cell_type": "code",
   "execution_count": null,
   "metadata": {
    "scrolled": false
   },
   "outputs": [],
   "source": [
    "G = SFA.tableGraph\n",
    "edges = []\n",
    "for n in tableNames:\n",
    "    nodeEdges = G.edges(n)\n",
    "    if len(nodeEdges) > 0:\n",
    "        for e in nodeEdges:\n",
    "            edges.append(e)\n",
    "    elif n in SFA.snowFlakeViews:\n",
    "        for (e1, e2) in G.edges():\n",
    "            if e2 == n:\n",
    "                edges.append((e1, e2))\n",
    "H = nx.DiGraph(edges)\n",
    "colorMap = {n: {'color': 'red'} if n in tableNames else {'color': ca.getNodeDefaultColor()} for n in H.nodes()}  # highlight the node as red\n",
    "title = 'Table Dependency Graph'\n",
    "nx.set_node_attributes(H, colorMap)\n",
    "    \n",
    "plot = figure(title=title, x_range=(-1.1,1.1), y_range=(-1.1,1.1), height=1000, width=1500, tools=\"pan,box_zoom,reset\")\n",
    "plot.title.align = 'center'\n",
    "\n",
    "graph_renderer = from_networkx(H, nx.spring_layout, scale=1, center=(0,0))\n",
    "graph_renderer.node_renderer.glyph = Circle(size=15, fill_color='color')\n",
    "graph_renderer.node_renderer.selection_glyph = Circle(size=15, fill_color=ca.getNodeSelectColor())\n",
    "graph_renderer.node_renderer.hover_glyph = Circle(size=15, fill_color=ca.getNodeHoverColor())\n",
    "\n",
    "graph_renderer.edge_renderer.glyph = MultiLine(line_color=\"#CCCCCC\", line_alpha=1, line_width=1)\n",
    "graph_renderer.edge_renderer.selection_glyph = MultiLine(line_color=ca.getNodeSelectColor(), line_width=3)\n",
    "graph_renderer.edge_renderer.hover_glyph = MultiLine(line_color=ca.getNodeHoverColor(), line_width=3)\n",
    "\n",
    "graph_renderer.selection_policy = NodesAndLinkedEdges()\n",
    "graph_renderer.inspection_policy = EdgesAndLinkedNodes()\n",
    "\n",
    "wheel_zoom = WheelZoomTool()\n",
    "plot.add_tools(HoverTool(tooltips=None), TapTool(), wheel_zoom)\n",
    "plot.toolbar.active_scroll=wheel_zoom\n",
    "plot.renderers.append(graph_renderer)\n",
    "pos = graph_renderer.layout_provider.graph_layout\n",
    "x,y=zip(*pos.values())\n",
    "source = ColumnDataSource({'x':x,'y':y, 'label': list(pos.keys())})\n",
    "labels = LabelSet(x='x', y='y', text='label', source=source, text_font_size='11px')\n",
    "plot.renderers.append(labels)\n",
    "show(plot)"
   ]
  },
  {
   "cell_type": "code",
   "execution_count": null,
   "metadata": {},
   "outputs": [],
   "source": [
    "%%html\n",
    "<style>\n",
    "div.input {\n",
    "    display:none;\n",
    "}\n",
    "</style>"
   ]
  }
 ],
 "metadata": {
  "kernelspec": {
   "display_name": "Python 3",
   "language": "python",
   "name": "python3"
  },
  "language_info": {
   "codemirror_mode": {
    "name": "ipython",
    "version": 3
   },
   "file_extension": ".py",
   "mimetype": "text/x-python",
   "name": "python",
   "nbconvert_exporter": "python",
   "pygments_lexer": "ipython3",
   "version": "3.7.5"
  }
 },
 "nbformat": 4,
 "nbformat_minor": 2
}
