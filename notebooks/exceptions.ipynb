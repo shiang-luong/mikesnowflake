{
 "cells": [
  {
   "cell_type": "code",
   "execution_count": null,
   "metadata": {},
   "outputs": [],
   "source": [
    "import os\n",
    "import sys\n",
    "sys.path.append(os.path.join('..', '..'))\n",
    "\n",
    "import logging\n",
    "logging.getLogger().setLevel(logging.INFO)\n",
    "\n",
    "\n",
    "import datetime\n",
    "import pandas as pd\n",
    "import numpy as np\n",
    "import multiprocessing as mp\n",
    "import scipy.stats\n",
    "\n",
    "from mikesnowflake.analysis.snowFlakeAnalysis import SnowFlakeAnalysis\n",
    "from mikesnowflake.access.colorAccess import ColorAccess"
   ]
  },
  {
   "cell_type": "code",
   "execution_count": null,
   "metadata": {},
   "outputs": [],
   "source": [
    "# snowflake and credentials\n",
    "os.environ['GOOGLE_APPLICATION_CREDENTIALS'] = ''\n",
    "\n",
    "user = ''\n",
    "password = ''"
   ]
  },
  {
   "cell_type": "code",
   "execution_count": null,
   "metadata": {},
   "outputs": [],
   "source": [
    "START_DATE = datetime.datetime(2018, 12, 1)\n",
    "END_DATE = datetime.datetime(2020, 6, 26)\n",
    "SFA = SnowFlakeAnalysis(START_DATE, END_DATE, user, password, excludeEtl=True)"
   ]
  },
  {
   "cell_type": "code",
   "execution_count": null,
   "metadata": {},
   "outputs": [],
   "source": [
    "def getQueryTypeHistory(tableNames, processes=8, sfa=SFA):\n",
    "    \"\"\"\n",
    "    \"\"\"\n",
    "    startTime = datetime.datetime.today()\n",
    "    print('processing %s tables with %s processes' % (len(tableNames), processes))\n",
    "    if isinstance(tableNames, str):\n",
    "        tableNames = [tableNames]\n",
    "    with mp.Pool(processes) as pool:\n",
    "        out = pool.map(sfa.getQueryTypeHistory, tableNames)\n",
    "    endTime = datetime.datetime.today()\n",
    "    print('done: %s' % (endTime - startTime))\n",
    "    return dict(zip(tableNames, out))"
   ]
  },
  {
   "cell_type": "code",
   "execution_count": null,
   "metadata": {},
   "outputs": [],
   "source": [
    "qtHistory = getQueryTypeHistory(SFA.snowFlakeTables, processes=8)"
   ]
  },
  {
   "cell_type": "code",
   "execution_count": null,
   "metadata": {
    "scrolled": false
   },
   "outputs": [],
   "source": [
    "windsor = pd.DataFrame(index=SFA.snowFlakeTables, columns=list(SFA.queryTypes.keys()))\n",
    "windsor['is_view'] = list(map(lambda x: x in SFA.snowFlakeViews, windsor.index))\n",
    "windsor['used_by_view'] = list(map(lambda x: x in SFA.viewGraph.nodes(), windsor.index))\n",
    "windsor['is_rollup'] = list(map(lambda x: x in SFA.rollupGraph.nodes(), windsor.index))\n",
    "windsor['degree'] = list(map(lambda x: SFA.tableDegrees.loc[x], windsor.index))\n",
    "windsor['is_gcs'] = list(map(lambda x: x in SFA.gcsTables, windsor.index))\n",
    "\n",
    "# we perform a monthly mean that's windsorized. monthly is better than daily for heavy month-end queries that would get dropped during a daily windsorization.\n",
    "for tableName in windsor.index:\n",
    "    commandHistory = qtHistory[tableName].pivot(index='query_date', columns='query_type', values='hits')\n",
    "    for k, v in SFA.queryTypes.items():\n",
    "        cols = [c for c in commandHistory.columns if c in v]\n",
    "        windsor.loc[tableName, k] = scipy.stats.mstats.winsorize(commandHistory[cols].sum(axis=1).resample('M').sum(), limits=[0.025, 0.025]).mean()\n",
    "cols = ['degree'] + [c for c in windsor.columns if not c in ['degree']]\n",
    "windsor = windsor[cols]\n",
    "windsor.sort_values(['degree', 'select'], ascending=[False, False]).style"
   ]
  },
  {
   "cell_type": "code",
   "execution_count": null,
   "metadata": {},
   "outputs": [],
   "source": [
    "trafficReport = windsor.reindex(SFA.yamlInfo[SFA.yamlInfo['feed_name']== 'TrafficReport']['table_name'].unique()).sort_values(['degree', 'select'], ascending=[False, False])\n",
    "trafficReport"
   ]
  },
  {
   "cell_type": "code",
   "execution_count": null,
   "metadata": {},
   "outputs": [],
   "source": []
  }
 ],
 "metadata": {
  "kernelspec": {
   "display_name": "Python 3",
   "language": "python",
   "name": "python3"
  },
  "language_info": {
   "codemirror_mode": {
    "name": "ipython",
    "version": 3
   },
   "file_extension": ".py",
   "mimetype": "text/x-python",
   "name": "python",
   "nbconvert_exporter": "python",
   "pygments_lexer": "ipython3",
   "version": "3.7.5"
  }
 },
 "nbformat": 4,
 "nbformat_minor": 2
}
